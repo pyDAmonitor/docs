{
 "cells": [
  {
   "cell_type": "markdown",
   "id": "0",
   "metadata": {},
   "source": [
    "# mpas plotting\n",
    "<style>\n",
    "div.text_cell_render {\n",
    "    background-color: transparent !important;\n",
    "    border: none !important;\n",
    "    padding: 0px !important;\n",
    "}\n",
    "</style>"
   ]
  },
  {
   "cell_type": "markdown",
   "id": "1",
   "metadata": {},
   "source": [
    "## House keeping and load modules"
   ]
  },
  {
   "cell_type": "code",
   "execution_count": null,
   "id": "2",
   "metadata": {},
   "outputs": [],
   "source": [
    "%%time \n",
    "\n",
    "# autoload external python modules if they changed\n",
    "%load_ext autoreload\n",
    "%autoreload 2\n",
    "\n",
    "import sys, os\n",
    "pyDAmonitor_ROOT=os.getenv(\"pyDAmonitor_ROOT\")\n",
    "if pyDAmonitor_ROOT is None:\n",
    "    print(\"!!! pyDAmonitor_ROOT is NOT set. Run `source ush/load_pyDAmonitor.sh`\")\n",
    "else:\n",
    "    print(f\"pyDAmonitor_ROOT={pyDAmonitor_ROOT}\\n\")\n",
    "sys.path.insert(0, pyDAmonitor_ROOT)\n",
    "\n",
    "# import modules\n",
    "import warnings\n",
    "import cartopy.crs as ccrs\n",
    "import geoviews.feature as gf\n",
    "import holoviews as hv\n",
    "import hvplot.xarray\n",
    "from holoviews import opts\n",
    "import uxarray as ux\n",
    "import xarray as xr\n",
    "import numpy as np\n",
    "import matplotlib.pyplot as plt\n",
    "hv.extension(\"bokeh\")\n",
    "# hv.extension(\"matplotlib\")\n",
    "\n",
    "import geoviews as gv\n",
    "import cartopy.crs as ccrs\n",
    "import geopandas as gp"
   ]
  },
  {
   "cell_type": "code",
   "execution_count": null,
   "id": "3",
   "metadata": {},
   "outputs": [],
   "source": [
    "from DAmonitor.shapes import coast_lines, state_lines, county_lines\n",
    "from DAmonitor.mpas import hcross_contour, hcross_contour0, vcross_contour"
   ]
  },
  {
   "cell_type": "markdown",
   "id": "4",
   "metadata": {},
   "source": [
    "## load MPAS data"
   ]
  },
  {
   "cell_type": "code",
   "execution_count": null,
   "id": "5",
   "metadata": {},
   "outputs": [],
   "source": [
    "%%time\n",
    "grid_file=f\"{pyDAmonitor_ROOT}/data/mpasjedi/invariant.nc\"\n",
    "bkg_file=f\"{pyDAmonitor_ROOT}/data/mpasjedi/bkg.nc\"\n",
    "ana_file=f\"{pyDAmonitor_ROOT}/data/mpasjedi/ana.nc\"\n",
    "\n",
    "# conus12km example:\n",
    "# grid_file=\"../data/mpasjedi/conus12km/conus12km.invariant.nc_L60_GFS\"\n",
    "# bkg_file=\"../data/mpasjedi/conus12km/bkg/mpasout.2024-05-06_01.00.00.nc\"\n",
    "# ana_file=\"../data/mpasjedi/conus12km/ana/mpasout.2024-05-06_01.00.00.nc\"\n",
    "\n",
    "# haidao's cris-fsr_n20 run (55 levels)\n",
    "# grid_file=\"../data/mpasjedi/cris-fsr_n20/invariant.nc\"\n",
    "# bkg_file=\"../data/mpasjedi/cris-fsr_n20/mpasout.2024-05-27_00.00.00.nc\"\n",
    "# ana_file=\"../data/mpasjedi/cris-fsr_n20/ana.2024-05-27_00.00.00.nc\"\n",
    "\n",
    "uxds_a = ux.open_dataset(grid_file, ana_file)\n",
    "uxds_b = ux.open_dataset(grid_file, bkg_file)"
   ]
  },
  {
   "cell_type": "markdown",
   "id": "6",
   "metadata": {},
   "source": [
    "## make a horizontal temperature plot"
   ]
  },
  {
   "cell_type": "code",
   "execution_count": null,
   "id": "7",
   "metadata": {},
   "outputs": [],
   "source": [
    "%%time\n",
    "\n",
    "uxvar0 = uxds_a['theta'] - 273.15\n",
    "uxvar = uxvar0\n",
    "nt = 0  # time dimension\n",
    "lev = 0  # vertical level\n",
    "## plot = hcross_contour0(uxvar.isel(Time=nt, nVertLevels=lev), title=f'lev={lev}', cincr=5)  # mostly for difference plots\n",
    "plot = hcross_contour(uxvar.isel(Time=nt, nVertLevels=lev), title=f'lev={lev}') #, symmetric_cmap=True)\n",
    "plot * coast_lines * state_lines"
   ]
  },
  {
   "cell_type": "markdown",
   "id": "8",
   "metadata": {},
   "source": [
    "## setting up a subdomain box"
   ]
  },
  {
   "cell_type": "code",
   "execution_count": null,
   "id": "9",
   "metadata": {},
   "outputs": [],
   "source": [
    "lon_center = -105.03\n",
    "lat_center = 39.0\n",
    "lon_incr = 5 # degree\n",
    "lat_incr = 3 # degree\n",
    "lon_bounds = (lon_center - lon_incr, lon_center + lon_incr)\n",
    "lat_bounds = (lat_center - lat_incr, lat_center + lat_incr)"
   ]
  },
  {
   "cell_type": "markdown",
   "id": "10",
   "metadata": {},
   "source": [
    "## plot temperature analysis increments at different levels"
   ]
  },
  {
   "cell_type": "code",
   "execution_count": null,
   "id": "11",
   "metadata": {},
   "outputs": [],
   "source": [
    "%%time\n",
    "\n",
    "var_name = \"theta\"\n",
    "uxdiff0 = uxds_a[var_name] - uxds_b[var_name]\n",
    "uxvar = uxdiff0\n",
    "\n",
    "nt=0  # time dimension\n",
    "plot_levels = [30]  # [0, 29, 42]  # [0, 19, 29, 39, 49, 58]\n",
    "\n",
    "# Create the colormap\n",
    "# colors = ['blue', 'white', 'red']    \n",
    "# cmap = LinearSegmentedColormap.from_list('blue_white_red', colors)\n",
    "# zero_shift = 0.02 \n",
    "\n",
    "cmap = plt.get_cmap('coolwarm')\n",
    "zero_shift = 0.0\n",
    "\n",
    "plots = []\n",
    "for lev in plot_levels:\n",
    "    ###  use hcross_contour0() which uses 0 divide the cool and warm colors in the plot by default\n",
    "    #\n",
    "    # tmp = hcross_contour0(\n",
    "    #     uxvar.isel(Time=nt, nVertLevels=lev), \n",
    "    #     title=f'lev={lev}', \n",
    "    #     cmap=cmap, \n",
    "    #     zero_shift=zero_shift, \n",
    "    #     clevs_multiplier=1,\n",
    "    # )  # for the whole domain  \n",
    "\n",
    "    # hcross_contour() does not dvide the cool and warm colors at 0 by default\n",
    "    # But it can be achieved by setting symmetric_cmap=True which will set symmetric cmax/cmin automatically,\n",
    "    #       or mannualy setting symmetric cmax/cmin\n",
    "    #\n",
    "    tmp = hcross_contour(\n",
    "        uxvar.isel(Time=nt, nVertLevels=lev), \n",
    "        title=f'lev={lev}',\n",
    "        symmetric_cmap=True,\n",
    "        #clevs=20,\n",
    "    )  # for the whole domain\n",
    "    \n",
    "    plots.append(tmp * coast_lines * state_lines)\n",
    "\n",
    "# plots share one toolbar, which facilitates doing sync'ed zoom-in/out\n",
    "# hv.Layout(plots).cols(1)\n",
    "\n",
    "# each plot has its own toolbar, which facilitates controlling each plot individually\n",
    "for p in plots:\n",
    "   display(p)"
   ]
  },
  {
   "cell_type": "markdown",
   "id": "12",
   "metadata": {},
   "source": [
    "## plot temperature increments zoomed into the Colorado domain"
   ]
  },
  {
   "cell_type": "code",
   "execution_count": null,
   "id": "13",
   "metadata": {},
   "outputs": [],
   "source": [
    "%%time\n",
    "\n",
    "var_name = \"theta\"\n",
    "uxdiff0 = uxds_a[var_name] - uxds_b[var_name]\n",
    "\n",
    "### subset to a small domain\n",
    "uxdiff1 = uxdiff0.subset.bounding_box(lon_bounds, lat_bounds,)\n",
    "uxvar = uxdiff1\n",
    "\n",
    "nt=0  # time dimension\n",
    "plot_levels = [42]  # [0, 29, 42]  # [0, 19, 29, 39, 49, 58]\n",
    "\n",
    "plots = []\n",
    "for lev in plot_levels:\n",
    "    tmp = hcross_contour(uxvar.isel(Time=nt, nVertLevels=lev), title=f'lev={lev}', width=700, height=500)  # for the subdomain\n",
    "    \n",
    "    # overlay state_lines\n",
    "    #plots.append(tmp * coast_lines * state_lines)  \n",
    "    \n",
    "    # overlay county lines, this takes longer time to render\n",
    "    plots.append(tmp * coast_lines * county_lines.opts(xlim=(lon_bounds[0], lon_bounds[1]), ylim=(lat_bounds[0], lat_bounds[1])))\n",
    "\n",
    "# plots share one toolbar, which facilitates doing sync'ed zoom-in/out\n",
    "# hv.Layout(plots).cols(1)\n",
    "\n",
    "# each plot has its own toolbar, which facilitates controlling each plot individually\n",
    "for p in plots:\n",
    "   display(p)"
   ]
  },
  {
   "cell_type": "markdown",
   "id": "14",
   "metadata": {},
   "source": [
    "## plot a vertcial cross section of temperature increments"
   ]
  },
  {
   "cell_type": "code",
   "execution_count": null,
   "id": "15",
   "metadata": {},
   "outputs": [],
   "source": [
    "%%time\n",
    "\n",
    "var_name = \"theta\"\n",
    "uxdiff0 = uxds_a[var_name] - uxds_b[var_name]\n",
    "uxvar = uxdiff0"
   ]
  },
  {
   "cell_type": "markdown",
   "id": "16",
   "metadata": {},
   "source": [
    "### each plot has its own toolbar"
   ]
  },
  {
   "cell_type": "code",
   "execution_count": null,
   "id": "17",
   "metadata": {},
   "outputs": [],
   "source": [
    "%%time\n",
    "\n",
    "tmp = vcross_contour(uxvar, lon=-85.77, clevels=10, xtick_stride=3)\n",
    "display(tmp)\n",
    "tmp = vcross_contour(uxvar, lat=42.63, clevels=10, xtick_stride=3)\n",
    "display(tmp)"
   ]
  },
  {
   "cell_type": "markdown",
   "id": "18",
   "metadata": {},
   "source": [
    "### save plots to files"
   ]
  },
  {
   "cell_type": "code",
   "execution_count": null,
   "id": "19",
   "metadata": {},
   "outputs": [],
   "source": [
    "# hv.save(tmp, 'vcross.png')"
   ]
  },
  {
   "cell_type": "markdown",
   "id": "20",
   "metadata": {},
   "source": [
    "### plots share one toolbar"
   ]
  },
  {
   "cell_type": "code",
   "execution_count": null,
   "id": "21",
   "metadata": {},
   "outputs": [],
   "source": [
    "# %%time \n",
    "# ( vcross_contour(uxvar, lon=-85.77, clevels=10) +\n",
    "# vcross_contour(uxvar, lat=42.63, clevels=10) ).cols(1)"
   ]
  }
 ],
 "metadata": {
  "kernelspec": {
   "display_name": "pyDAmonitor",
   "language": "python",
   "name": "pydamonitor"
  },
  "language_info": {
   "codemirror_mode": {
    "name": "ipython",
    "version": 3
   },
   "file_extension": ".py",
   "mimetype": "text/x-python",
   "name": "python",
   "nbconvert_exporter": "python",
   "pygments_lexer": "ipython3",
   "version": "3.11.13"
  }
 },
 "nbformat": 4,
 "nbformat_minor": 5
}
