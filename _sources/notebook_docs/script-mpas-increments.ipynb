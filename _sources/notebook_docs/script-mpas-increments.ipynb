{
 "cells": [
  {
   "cell_type": "markdown",
   "id": "5bc90b20-3091-450e-a688-c58e6aedec95",
   "metadata": {},
   "source": [
    "# run a script in a notebook to plot analysis increment profile and vertical cross section\n",
    "Run `scripts/vertical_profile_mpasjedi.py` developed by Junjun Hu"
   ]
  },
  {
   "cell_type": "markdown",
   "id": "d168e1b2-479c-4f27-8ffb-5174f14ab850",
   "metadata": {},
   "source": [
    "## Preparation, adding pyDAmonitor_ROOT to sys.path; load modules"
   ]
  },
  {
   "cell_type": "code",
   "execution_count": null,
   "id": "bbc618fa-0e74-46e9-9a84-1b0bb49c4872",
   "metadata": {},
   "outputs": [],
   "source": [
    "%%time \n",
    "\n",
    "# autoload external python modules if they changed\n",
    "%load_ext autoreload\n",
    "%autoreload 2\n",
    "\n",
    "import sys, os\n",
    "pyDAmonitor_ROOT=os.getenv(\"pyDAmonitor_ROOT\")\n",
    "if pyDAmonitor_ROOT is None:\n",
    "    print(\"!!! pyDAmonitor_ROOT is NOT set. Run `source ush/load_pyDAmonitor.sh`\")\n",
    "else:\n",
    "    print(f\"pyDAmonitor_ROOT={pyDAmonitor_ROOT}\\n\")\n",
    "sys.path.insert(0, pyDAmonitor_ROOT)\n",
    "\n",
    "from DAmonitor.base import load_figs"
   ]
  },
  {
   "cell_type": "markdown",
   "id": "b3016577-c12d-4383-b380-4b5b5b6b012b",
   "metadata": {},
   "source": [
    "## Run the vertical_profile_mpasjedi.py script directly in the Notebook"
   ]
  },
  {
   "cell_type": "code",
   "execution_count": null,
   "id": "ede083de-8f2a-447a-8d90-14d524a09bcf",
   "metadata": {},
   "outputs": [],
   "source": [
    "%%time\n",
    "%run $pyDAmonitor_ROOT/scripts/vertical_profile_mpasjedi.py"
   ]
  },
  {
   "cell_type": "markdown",
   "id": "c86f2753-c492-4537-80d6-5585083fbed6",
   "metadata": {},
   "source": [
    "## load the generate figures (vertical profiles and vertical cross sections)"
   ]
  },
  {
   "cell_type": "code",
   "execution_count": null,
   "id": "254a04ee-cbb5-49a7-8f86-30fe4757d2e0",
   "metadata": {},
   "outputs": [],
   "source": [
    "load_figs('./U_inc_p.png', 'U_inc_z.png') #, 'U_inc_xp.png', 'U_inc_xz.png', 'U_inc_yp.png', 'U_inc_yp.png', 'U_inc_yz.png' )"
   ]
  },
  {
   "cell_type": "markdown",
   "id": "ca10ace3-c3c1-4b3c-8969-ffa9f2dc8f2d",
   "metadata": {},
   "source": [
    "## cat the content of `scripts/vertical_profile_mpasjedi.py`"
   ]
  },
  {
   "cell_type": "code",
   "execution_count": null,
   "id": "fc764876-30c1-47c7-ab72-ee5f2abbcf9a",
   "metadata": {},
   "outputs": [],
   "source": [
    "!cat $pyDAmonitor_ROOT/scripts/vertical_profile_mpasjedi.py"
   ]
  }
 ],
 "metadata": {
  "kernelspec": {
   "display_name": "pyDAmonitor",
   "language": "python",
   "name": "pydamonitor"
  },
  "language_info": {
   "codemirror_mode": {
    "name": "ipython",
    "version": 3
   },
   "file_extension": ".py",
   "mimetype": "text/x-python",
   "name": "python",
   "nbconvert_exporter": "python",
   "pygments_lexer": "ipython3",
   "version": "3.11.13"
  }
 },
 "nbformat": 4,
 "nbformat_minor": 5
}
