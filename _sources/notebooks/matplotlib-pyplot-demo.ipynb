{
 "cells": [
  {
   "cell_type": "markdown",
   "id": "f871dba7-9bea-4762-911a-521095557577",
   "metadata": {},
   "source": [
    "# matplot pyplot demo"
   ]
  },
  {
   "cell_type": "code",
   "execution_count": null,
   "id": "2b39abd3-1e42-4b17-b656-823d109cae68",
   "metadata": {},
   "outputs": [],
   "source": [
    "import matplotlib.pyplot as plt\n",
    "\n",
    "fig = plt.figure()             # make a figure (canvas)\n",
    "ax = fig.add_subplot(111)      # make one Axes (a plot) in the figure\n",
    "\n",
    "ax.plot([0,1,2],[0,1,4])       # draw on the Axes\n",
    "plt.show()"
   ]
  },
  {
   "cell_type": "code",
   "execution_count": null,
   "id": "7522fbc3-ff14-4496-b9f5-d8833af76497",
   "metadata": {},
   "outputs": [],
   "source": [
    "import matplotlib.pyplot as plt\n",
    "import cartopy.crs as ccrs\n",
    "\n",
    "# Create a Figure\n",
    "fig = plt.figure(figsize=(8, 6))\n",
    "\n",
    "# Create one GeoAxes with Lambert Conformal projection\n",
    "ax = plt.axes(projection=ccrs.LambertConformal(central_longitude=-97, central_latitude=40))\n",
    "\n",
    "# Add features\n",
    "ax.coastlines()\n",
    "ax.gridlines(draw_labels=True)\n",
    "\n",
    "# Title\n",
    "ax.set_title(\"Cartopy GeoAxes (Lambert Conformal Projection)\")\n",
    "\n",
    "plt.show()"
   ]
  },
  {
   "cell_type": "code",
   "execution_count": null,
   "id": "fe1575de-ed3d-4cf2-b28f-207876736e95",
   "metadata": {},
   "outputs": [],
   "source": [
    "import matplotlib.pyplot as plt\n",
    "import cartopy.crs as ccrs\n",
    "\n",
    "# Create a Figure (canvas)\n",
    "fig = plt.figure(figsize=(12, 6))\n",
    "\n",
    "# Left: PlateCarree (simple lon/lat)\n",
    "ax1 = fig.add_subplot(121, projection=ccrs.PlateCarree())\n",
    "ax1.coastlines()\n",
    "ax1.set_title(\"PlateCarree (Geographic)\")\n",
    "\n",
    "# Right: Lambert Conformal\n",
    "ax2 = fig.add_subplot(122, projection=ccrs.LambertConformal(central_longitude=-97, central_latitude=40))\n",
    "ax2.coastlines()\n",
    "ax2.set_title(\"Lambert Conformal\")\n",
    "\n",
    "plt.tight_layout()\n",
    "plt.show()"
   ]
  }
 ],
 "metadata": {
  "kernelspec": {
   "display_name": "pyDAmonitor",
   "language": "python",
   "name": "pydamonitor"
  },
  "language_info": {
   "codemirror_mode": {
    "name": "ipython",
    "version": 3
   },
   "file_extension": ".py",
   "mimetype": "text/x-python",
   "name": "python",
   "nbconvert_exporter": "python",
   "pygments_lexer": "ipython3",
   "version": "3.11.13"
  }
 },
 "nbformat": 4,
 "nbformat_minor": 5
}
