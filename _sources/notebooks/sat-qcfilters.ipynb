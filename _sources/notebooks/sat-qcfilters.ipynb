{
 "cells": [
  {
   "cell_type": "markdown",
   "id": "f4c7d590-3159-4c08-a437-137b66193253",
   "metadata": {},
   "source": [
    "# plot the QC filter results for satellite DA (cris-fsr\n",
    "Adapted from Haidao Lin's script"
   ]
  },
  {
   "cell_type": "markdown",
   "id": "3fbaf516-1b1b-44c7-bf99-c593120169e6",
   "metadata": {},
   "source": [
    "## get the `pyDAmonitor_ROOT` env variable\n",
    "This step is highly recommended. It is required if one want to use the DAmonitor Python package or use the MPAS/FV3 sample data or local cartopy nature_earth_data."
   ]
  },
  {
   "cell_type": "code",
   "execution_count": null,
   "id": "8690af20-9c0f-4189-939e-f910e6aa8c6f",
   "metadata": {},
   "outputs": [],
   "source": [
    "%%time\n",
    "# autoload external python modules if they changed\n",
    "%load_ext autoreload\n",
    "%autoreload 2\n",
    "    \n",
    "import sys, os\n",
    "pyDAmonitor_ROOT=os.getenv(\"pyDAmonitor_ROOT\")\n",
    "if pyDAmonitor_ROOT is None:\n",
    "    print(\"!!! pyDAmonitor_ROOT is NOT set. Run `source ush/load_pyDAmonitor.sh`\")\n",
    "else:\n",
    "    print(f\"pyDAmonitor_ROOT={pyDAmonitor_ROOT}\\n\")\n",
    "sys.path.insert(0, pyDAmonitor_ROOT)"
   ]
  },
  {
   "cell_type": "markdown",
   "id": "972a87e0-710c-406e-a289-6168f5253955",
   "metadata": {},
   "source": [
    "## import modules"
   ]
  },
  {
   "cell_type": "code",
   "execution_count": null,
   "id": "cceb3a05-23e0-4025-987d-b6cd2898e1d9",
   "metadata": {},
   "outputs": [],
   "source": [
    "%%time\n",
    "from netCDF4 import Dataset\n",
    "import cartopy\n",
    "cartopy.config['data_dir'] = f\"{pyDAmonitor_ROOT}/data/natural_earth_data\"\n",
    "import cartopy.crs as ccrs\n",
    "import matplotlib.ticker as mticker\n",
    "import matplotlib.pyplot as plt\n",
    "import numpy as np\n",
    "#matplotlib.use(\"Agg\")\n",
    "%matplotlib inline\n",
    "\n",
    "from DAmonitor.base import query_data, query_dataset, query_obj, to_dataframe\n",
    "from DAmonitor.obs import obsSpace"
   ]
  },
  {
   "cell_type": "markdown",
   "id": "d95ac006-3d52-4b82-a42d-dee9c8c60e72",
   "metadata": {},
   "source": [
    "## read satellite diagnostics using the `obsSpace` class"
   ]
  },
  {
   "cell_type": "code",
   "execution_count": null,
   "id": "2d904bf0-3c26-4332-97ce-634f74ee7a60",
   "metadata": {},
   "outputs": [],
   "source": [
    "%%time\n",
    "obsfile = os.path.join(pyDAmonitor_ROOT,'data/mpasjedi/jdiag_cris-fsr_n20.nc')\n",
    "obs = obsSpace(obsfile)"
   ]
  },
  {
   "cell_type": "markdown",
   "id": "e0bc658d-dac8-4a5d-8e80-8b14080916da",
   "metadata": {},
   "source": [
    "## check attributes, dimensions and the 'bt' data dictionary"
   ]
  },
  {
   "cell_type": "code",
   "execution_count": null,
   "id": "b02c515a-0019-412b-9b38-5872461ddf6a",
   "metadata": {},
   "outputs": [],
   "source": [
    "for attr in obs.ds.ncattrs():\n",
    "    print(f'{attr}: {obs.ds.getncattr(attr)}')\n",
    "\n",
    "obs.ds.dimensions"
   ]
  },
  {
   "cell_type": "code",
   "execution_count": null,
   "id": "e94b2b40-c2fc-41c4-947d-c5fdaea1c7c6",
   "metadata": {},
   "outputs": [],
   "source": [
    "query_data(obs.bt, meta_exclude=\"sensorCentralWavenumber_\")"
   ]
  },
  {
   "cell_type": "code",
   "execution_count": null,
   "id": "03b354ad-4ea3-4bc3-8986-f08373f02794",
   "metadata": {},
   "outputs": [],
   "source": [
    "obs.bt.CloudDetectMinResidualIR.compressed()"
   ]
  },
  {
   "cell_type": "markdown",
   "id": "800e74a3-c48e-49d0-91ab-9de0ca2e0a68",
   "metadata": {},
   "source": [
    "## find channels with valid ombg masked by CloudDetectMinResidualIR==1"
   ]
  },
  {
   "cell_type": "code",
   "execution_count": null,
   "id": "47b982e8-7b2d-4b3e-8409-21fd148e3d93",
   "metadata": {},
   "outputs": [],
   "source": [
    "MAX_LINES = 20\n",
    "knt = 0\n",
    "for iChan, chanID in enumerate(obs.bt.Channel):\n",
    "    mask = obs.bt.CloudDetectMinResidualIR[:, iChan] == 1\n",
    "    if obs.bt.ombg[mask, iChan].size > 0:\n",
    "        knt += 1\n",
    "        if knt <= MAX_LINES:\n",
    "            print(iChan, chanID, obs.bt.ombg[mask, iChan].size)  #  250 648 1083"
   ]
  },
  {
   "cell_type": "markdown",
   "id": "9bb66ed6-a336-4825-b750-cc6181285611",
   "metadata": {},
   "source": [
    "## Define the sat_obs_map(..) function"
   ]
  },
  {
   "cell_type": "code",
   "execution_count": null,
   "id": "5ab0ce66-cd10-494d-ac7a-1551b9e05902",
   "metadata": {},
   "outputs": [],
   "source": [
    "def sat_obs_map(obs,iChan, area, colors, qcfilters):\n",
    "    fig = plt.figure(figsize=(10, 10))\n",
    "    ax = plt.axes(projection=ccrs.PlateCarree(central_longitude=0))\n",
    "    \n",
    "    # Plot grid lines\n",
    "    # ----------------\n",
    "    gl = ax.gridlines(crs=ccrs.PlateCarree(central_longitude=0), draw_labels=True,\n",
    "                      linewidth=1, color='gray', alpha=0.5, linestyle='-')\n",
    "    gl.top_labels = False\n",
    "    gl.xlabel_style = {'size': 5, 'color': 'black'}\n",
    "    gl.ylabel_style = {'size': 5, 'color': 'black'}\n",
    "    # gl.xlocator = mticker.FixedLocator(\n",
    "        # [-180, -135, -90, -45, 0, 45, 90, 135, 179.9])\n",
    "\n",
    "    qcfilterList = qcfilters.split(',')\n",
    "    colorList = colors.split(',')\n",
    "\n",
    "    for qcfilter, color in zip(qcfilterList, colorList):\n",
    "        mask = obs.bt[qcfilter][:, iChan] == 1\n",
    "        field = obs.bt.ombg[mask, iChan]\n",
    "        lon = obs.bt.longitude[mask]\n",
    "        lat = obs.bt.latitude[mask]\n",
    "        knt = np.ma.count(field)\n",
    "        sc = ax.scatter(lon, lat, color=color, \n",
    "                        label=f\"{qcfilter}, Total Count: {knt}\",\n",
    "                        s=2, linewidth=0, transform=ccrs.PlateCarree(), norm=None, antialiased=True)\n",
    "        \n",
    "    ax.set_extent(area)\n",
    "    ax.coastlines()\n",
    "    plt.title(f\"{qcfilter}, Total Count: {knt}\")\n",
    "    plt.show()"
   ]
  },
  {
   "cell_type": "code",
   "execution_count": null,
   "id": "90676b41-8042-4e20-90a1-41ab9ab769a8",
   "metadata": {},
   "outputs": [],
   "source": [
    "iChan = 250\n",
    "area = [-150, -50, 15, 55]\n",
    "\n",
    "#\n",
    "colors = \"blue\"\n",
    "qcfilters = \"CloudDetectMinResidualIR\"\n",
    "sat_obs_map(obs, iChan, area, colors, qcfilters)\n",
    "#\n",
    "colors = \"blue\"\n",
    "qcfilters = \"GrossCheck\"\n",
    "sat_obs_map(obs, iChan, area, colors, qcfilters)\n",
    "#\n",
    "# plot CloudDetectMinResidualIR and GrossCheck together\n",
    "colors = \"blue,red\"\n",
    "qcfilters = \"CloudDetectMinResidualIR,GrossCheck\"\n",
    "qcfilters.split(',')\n",
    "sat_obs_map(obs, iChan, area, colors, qcfilters)\n",
    "#\n",
    "colors = \"blue\"\n",
    "qcfilters = \"NearSSTRetCheckIR\"\n",
    "sat_obs_map(obs, iChan, area, colors, qcfilters)\n",
    "#\n",
    "colors = \"blue\"\n",
    "qcfilters = \"UseflagCheck\"\n",
    "sat_obs_map(obs, iChan, area, colors, qcfilters)"
   ]
  },
  {
   "cell_type": "markdown",
   "id": "dc705ca5-8264-4f7c-bfb8-accf81dcaa57",
   "metadata": {},
   "source": [
    "## Use a slidebar to quickly navigate through all channels"
   ]
  },
  {
   "cell_type": "code",
   "execution_count": null,
   "id": "c83fc189-7556-4f06-9df2-7101a369fc76",
   "metadata": {},
   "outputs": [],
   "source": [
    "%%time\n",
    "import numpy as np\n",
    "import plotly.graph_objects as go\n",
    "import plotly.io as pio\n",
    "pio.renderers.default = 'notebook'\n",
    "\n",
    "# \n",
    "qcfilter = \"CloudDetectMinResidualIR\"\n",
    "\n",
    "data = {}\n",
    "for iChan, ch in enumerate(obs.bt.Channel):\n",
    "    mask = obs.bt[qcfilter][:, iChan] == 1\n",
    "    field = obs.bt.ombg[mask, iChan]\n",
    "    lon = obs.bt.longitude[mask]\n",
    "    lat = obs.bt.latitude[mask]\n",
    "    knt = np.ma.count(field)\n",
    "    data[f\"{ch}\"] = {\n",
    "        \"lat\": lat,\n",
    "        \"lon\": lon,\n",
    "        \"knt\": knt,\n",
    "    }\n",
    "\n",
    "fig = go.Figure()\n",
    "\n",
    "# Add initial trace (first channel)\n",
    "ch0 = f\"{obs.bt.Channel[0]}\"\n",
    "fig.add_trace(go.Scattermap(\n",
    "    lat=data[ch0][\"lat\"],\n",
    "    lon=data[ch0][\"lon\"],\n",
    "    mode='markers',\n",
    "    marker=dict(size=10, color='blue'),\n",
    "    name=ch0\n",
    "))\n",
    "\n",
    "# Define slider steps to replace data\n",
    "steps = []\n",
    "for ch in data:\n",
    "    step = dict(\n",
    "        method=\"update\",\n",
    "        args=[{\"lat\": [data[ch][\"lat\"]], \"lon\": [data[ch][\"lon\"]], \"name\": ch},\n",
    "              {\"title.text\": f\"Channel: {ch}\"},],\n",
    "        label=ch\n",
    "    )\n",
    "    steps.append(step)\n",
    "\n",
    "sliders = [dict(active=0, pad={\"t\": 50}, steps=steps)]\n",
    "\n",
    "# Layout\n",
    "fig.update_layout(\n",
    "    map=dict(\n",
    "        center={\"lat\": 36.5, \"lon\": -118},  # adjust for your data\n",
    "        zoom=4\n",
    "    ),\n",
    "    sliders=sliders,\n",
    "    width=1000,   # pixels\n",
    "    height=800,   # pixels\n",
    ")\n",
    "\n",
    "fig.show()"
   ]
  },
  {
   "cell_type": "code",
   "execution_count": null,
   "id": "13674088-ddb2-45cc-abb0-626ed6af7c37",
   "metadata": {},
   "outputs": [],
   "source": [
    "query_dataset(obs.ds, meta_exclude=\"sensorCentralWavenumber\")"
   ]
  }
 ],
 "metadata": {
  "kernelspec": {
   "display_name": "pyDAmonitor",
   "language": "python",
   "name": "pydamonitor"
  },
  "language_info": {
   "codemirror_mode": {
    "name": "ipython",
    "version": 3
   },
   "file_extension": ".py",
   "mimetype": "text/x-python",
   "name": "python",
   "nbconvert_exporter": "python",
   "pygments_lexer": "ipython3",
   "version": "3.11.13"
  }
 },
 "nbformat": 4,
 "nbformat_minor": 5
}
