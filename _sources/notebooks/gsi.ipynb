{
 "cells": [
  {
   "cell_type": "markdown",
   "id": "9e901054-d280-4815-b0c4-71e74f163388",
   "metadata": {},
   "source": [
    "# work with GSI diag files   \n",
    "This notebook illustreate how to work with GSI diag files using a similar `obsSpaceGSI` class"
   ]
  },
  {
   "cell_type": "code",
   "execution_count": null,
   "id": "1fe56496-4431-48c9-9dfd-94b230dc4097",
   "metadata": {},
   "outputs": [],
   "source": [
    "%%time \n",
    "\n",
    "# autoload external python modules if they changed\n",
    "%load_ext autoreload\n",
    "%autoreload 2\n",
    "\n",
    "import os, sys\n",
    "pyDAmonitor_ROOT=os.getenv(\"pyDAmonitor_ROOT\")\n",
    "if pyDAmonitor_ROOT is None:\n",
    "    print(\"!!! pyDAmonitor_ROOT is NOT set. Run `source ush/load_pyDAmonitor.sh`\")\n",
    "else:\n",
    "    print(f\"pyDAmonitor_ROOT={pyDAmonitor_ROOT}\\n\")\n",
    "sys.path.insert(0, pyDAmonitor_ROOT)\n",
    "    \n",
    "# import modules\n",
    "import warnings\n",
    "import math\n",
    "import numpy as np\n",
    "import uxarray as ux\n",
    "import xarray as xr\n",
    "import pandas as pd\n",
    "import seaborn as sns  # seaborn handles NaN values automatically\n",
    "import matplotlib.pyplot as plt\n",
    "from netCDF4 import Dataset\n",
    "from DAmonitor.base import query_dataset, query_data, query_obj, to_dataframe"
   ]
  },
  {
   "cell_type": "code",
   "execution_count": null,
   "id": "0f830ae8-ac02-4706-978e-058506fed625",
   "metadata": {},
   "outputs": [],
   "source": [
    "diag_ana=f\"{pyDAmonitor_ROOT}/data/gsi/diag_conv_t_anl.2024050601.nc4\"\n",
    "diag_bkg=f\"{pyDAmonitor_ROOT}/data/gsi/diag_conv_t_ges.2024050601.nc4\""
   ]
  },
  {
   "cell_type": "markdown",
   "id": "0bdfd6ce-fdab-463d-bbc2-9becec5627bb",
   "metadata": {},
   "source": [
    "## Use `obsSpaceGSI` to read GSI diag files"
   ]
  },
  {
   "cell_type": "code",
   "execution_count": null,
   "id": "bee45d2a-19a9-4b6d-97b6-469b53c3c551",
   "metadata": {},
   "outputs": [],
   "source": [
    "from DAmonitor.obs import obsSpaceGSI, fit_rate\n",
    "tana=obsSpaceGSI(diag_ana)\n",
    "tbkg=obsSpaceGSI(diag_bkg)"
   ]
  },
  {
   "cell_type": "code",
   "execution_count": null,
   "id": "e86b831d-0617-44cc-8ca0-a3874a51ee7a",
   "metadata": {},
   "outputs": [],
   "source": [
    "query_obj(tana)\n",
    "# one can access diag data using `tana.data`\n",
    "# query_data(tana.data)"
   ]
  },
  {
   "cell_type": "code",
   "execution_count": null,
   "id": "ab45b9ba-adb4-42ed-8a20-b5cb708840e6",
   "metadata": {},
   "outputs": [],
   "source": [
    "print(tana.data.Observation_Class)"
   ]
  },
  {
   "cell_type": "markdown",
   "id": "2075832d-e84c-4c75-86c9-efb9d70577a3",
   "metadata": {},
   "source": [
    "## convert to Pandas DataFrame"
   ]
  },
  {
   "cell_type": "code",
   "execution_count": null,
   "id": "84826e2a-3902-4a48-a6dd-3a381818daf6",
   "metadata": {},
   "outputs": [],
   "source": [
    "pd.set_option('display.max_columns', None)  # show all dataframe columns\n",
    "dfana=to_dataframe(tana.data)\n",
    "dfbkg=to_dataframe(tbkg.data)\n",
    "pd.set_option(\"display.max_columns\", None)\n",
    "dfana"
   ]
  },
  {
   "cell_type": "markdown",
   "id": "be59954c-f35a-4ae0-a7a7-651385c42925",
   "metadata": {},
   "source": [
    "## Plot histrogram"
   ]
  },
  {
   "cell_type": "code",
   "execution_count": null,
   "id": "03000ef4-fca2-472f-afd2-a5d7923b1382",
   "metadata": {},
   "outputs": [],
   "source": [
    "plt.figure(figsize=(8, 5))\n",
    "#sns.histplot(df[\"oman\"], bins=50, kde=True, color=\"steelblue\")\n",
    "sns.histplot(tana.data.Obs_Minus_Forecast_adjusted, bins=100, kde=False, color=\"steelblue\")\n",
    "plt.title(\"Histogram of oman\")\n",
    "plt.xlabel(\"oman values\")\n",
    "plt.ylabel(\"Density\")\n",
    "plt.tight_layout()\n",
    "plt.show()"
   ]
  },
  {
   "cell_type": "markdown",
   "id": "589f4231-fa4e-4a6e-a4b1-1eb16820ed33",
   "metadata": {},
   "source": [
    "## Plot fitting rate"
   ]
  },
  {
   "cell_type": "code",
   "execution_count": null,
   "id": "52089629-4f9f-4f9d-b108-5c20c52026ad",
   "metadata": {},
   "outputs": [],
   "source": [
    "## assemble 133 OMB and OMA into a dictionary\n",
    "df_133_a = dfana[dfana[\"Observation_Type\"] == 133]\n",
    "df_133_b = dfbkg[dfbkg[\"Observation_Type\"] == 133]\n",
    "\n",
    "t133={\n",
    "    'oman': df_133_a[\"Obs_Minus_Forecast_adjusted\"].to_numpy(),\n",
    "    'ombg': df_133_b[\"Obs_Minus_Forecast_adjusted\"].to_numpy(),\n",
    "    'height': df_133_a[\"Station_Elevation\"].to_numpy(),\n",
    "}"
   ]
  },
  {
   "cell_type": "code",
   "execution_count": null,
   "id": "2827db1b-7201-49d5-9955-ce26e7fb6cb0",
   "metadata": {},
   "outputs": [],
   "source": [
    "dz = 1000\n",
    "grouped = fit_rate(t133, dz=dz)\n",
    "\n",
    "# 5. Plot vertical profile of fit_rate vs height\n",
    "plt.figure(figsize=(7, 6))\n",
    "plt.plot(grouped[\"fit_rate\"], grouped[\"height_bin\"], marker=\"o\", color=\"blue\")\n",
    "# plt.axvline(x=0, color=\"gray\", linestyle=\"--\")  # ax vertical line\n",
    "\n",
    "plt.xlabel(\"Fit Rate (%)\")  # label change\n",
    "plt.gca().xaxis.set_major_formatter(plt.FuncFormatter(lambda x, _: f'{x*100:.0f}%'))  # format as %\n",
    "plt.ylabel(\"Height Bin (m)\")\n",
    "plt.title(\"Vertical Profile of Fit Rate\")\n",
    "\n",
    "# Fine-tune ticks\n",
    "plt.xticks(np.arange(0, 0.25, 0.05))  #, fontsize=12)\n",
    "plt.yticks(np.arange(0, 13000, dz))  #, , fontsize=12)\n",
    "# Add minor ticks\n",
    "from matplotlib.ticker import AutoMinorLocator\n",
    "plt.gca().xaxis.set_minor_locator(AutoMinorLocator())\n",
    "plt.gca().yaxis.set_minor_locator(AutoMinorLocator())\n",
    "# plt.grid(which='both', linestyle='--', linewidth=0.5)\n",
    "plt.grid(True)\n",
    "\n",
    "plt.ylim(0, 13000)  # set y-axis from 0 (bottom) to 13,000 (top)\n",
    "plt.tight_layout()\n",
    "plt.show()"
   ]
  },
  {
   "cell_type": "markdown",
   "id": "52a8febc-268f-44bc-a0bf-20520ebd6d8d",
   "metadata": {},
   "source": [
    "## For reference, check diag file contents using netCDF4 directly"
   ]
  },
  {
   "cell_type": "code",
   "execution_count": null,
   "id": "b003e1f8-a695-49d9-bf97-30cb34459225",
   "metadata": {},
   "outputs": [],
   "source": [
    "dataset=Dataset(diag_ana, mode='r')\n",
    "query_dataset(dataset)"
   ]
  },
  {
   "cell_type": "markdown",
   "id": "b821940a-b25d-444f-bb4f-2d7cb7a45ede",
   "metadata": {},
   "source": [
    "### check the shape/ndim of each variable in the netCDF4 dataset"
   ]
  },
  {
   "cell_type": "code",
   "execution_count": null,
   "id": "745a1d54-1e98-4f9e-a456-a9c54aeaf479",
   "metadata": {},
   "outputs": [],
   "source": [
    "for var in dataset.variables:\n",
    "    print(var, dataset.variables[var][:].shape) #ndim"
   ]
  },
  {
   "cell_type": "code",
   "execution_count": null,
   "id": "3df6797c-cb6f-4a89-b7ff-3e6e08347824",
   "metadata": {},
   "outputs": [],
   "source": [
    "print(dataset.variables[\"Bias_Correction_Terms\"][:])"
   ]
  },
  {
   "cell_type": "markdown",
   "id": "f05c1ba1-7c1b-4e35-9c12-54d8359aab72",
   "metadata": {},
   "source": [
    "### check attributes"
   ]
  },
  {
   "cell_type": "code",
   "execution_count": null,
   "id": "d1b93974-8f37-4624-a394-bd14409c9b47",
   "metadata": {},
   "outputs": [],
   "source": [
    "for stmp in dataset.variables[\"Data_Pof\"].ncattrs():\n",
    "    print(stmp)"
   ]
  },
  {
   "cell_type": "code",
   "execution_count": null,
   "id": "8cd11213-2257-401a-b8b9-dc1392e68ae5",
   "metadata": {},
   "outputs": [],
   "source": [
    "print(dataset.variables[\"Data_Pof\"].ncattrs())"
   ]
  }
 ],
 "metadata": {
  "kernelspec": {
   "display_name": "pyDAmonitor",
   "language": "python",
   "name": "pydamonitor"
  },
  "language_info": {
   "codemirror_mode": {
    "name": "ipython",
    "version": 3
   },
   "file_extension": ".py",
   "mimetype": "text/x-python",
   "name": "python",
   "nbconvert_exporter": "python",
   "pygments_lexer": "ipython3",
   "version": "3.11.13"
  }
 },
 "nbformat": 4,
 "nbformat_minor": 5
}
