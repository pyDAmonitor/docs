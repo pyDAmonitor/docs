{
 "cells": [
  {
   "cell_type": "markdown",
   "id": "79459135-1b1b-465f-82da-a155f0fdcb07",
   "metadata": {},
   "source": [
    "# Check results and make plots on individual cells\n",
    "- Find cell index based on terrain plots in a map\n",
    "- Find all neighborhood cells based on an input lat/lon\n",
    "- etc"
   ]
  },
  {
   "cell_type": "markdown",
   "id": "071ad6b2-9b94-4b8a-9c54-39b140069dad",
   "metadata": {},
   "source": [
    "## get the `pyDAmonitor_ROOT` env variable\n",
    "This step is highly recommended. It is required if one want to use the DAmonitor Python package or use the MPAS/FV3 sample data or local cartopy nature_earth_data."
   ]
  },
  {
   "cell_type": "code",
   "execution_count": null,
   "id": "21c5f683-e201-44cb-a32e-e282756f9c63",
   "metadata": {},
   "outputs": [],
   "source": [
    "%%time\n",
    "# autoload external python modules if they changed\n",
    "%load_ext autoreload\n",
    "%autoreload 2\n",
    "    \n",
    "import sys, os\n",
    "pyDAmonitor_ROOT=os.getenv(\"pyDAmonitor_ROOT\")\n",
    "if pyDAmonitor_ROOT is None:\n",
    "    print(\"!!! pyDAmonitor_ROOT is NOT set. Run `source ush/load_pyDAmonitor.sh`\")\n",
    "else:\n",
    "    print(f\"pyDAmonitor_ROOT={pyDAmonitor_ROOT}\\n\")\n",
    "sys.path.insert(0, pyDAmonitor_ROOT)"
   ]
  },
  {
   "cell_type": "markdown",
   "id": "8d1a7265-78e7-4b60-a0ad-4beb00df7204",
   "metadata": {},
   "source": [
    "## import modules"
   ]
  },
  {
   "cell_type": "code",
   "execution_count": null,
   "id": "9ac09534-01b3-43d0-905d-a68fddddafc6",
   "metadata": {},
   "outputs": [],
   "source": [
    "%%time\n",
    "import numpy as np\n",
    "from netCDF4 import Dataset\n",
    "\n",
    "import matplotlib.pyplot as plt\n",
    "import matplotlib as mpl\n",
    "import cartopy\n",
    "import cartopy.crs as ccrs\n",
    "import cartopy.feature as cfeature\n",
    "from DAmonitor.base import query_dataset, query_obj\n",
    "cartopy.config['data_dir'] = f\"{pyDAmonitor_ROOT}/data/natural_earth_data\""
   ]
  },
  {
   "cell_type": "markdown",
   "id": "be59bde1-2393-4797-8a03-3290f38d75af",
   "metadata": {},
   "source": [
    "## read in `invariant.nc`"
   ]
  },
  {
   "cell_type": "code",
   "execution_count": null,
   "id": "b2b9b37b-e966-4b3e-8558-9dd0a2f1cfd5",
   "metadata": {},
   "outputs": [],
   "source": [
    "ds0 = Dataset(os.path.join(pyDAmonitor_ROOT,'data/mpasjedi/invariant.nc'), 'r')\n",
    "query_dataset(ds0)"
   ]
  },
  {
   "cell_type": "markdown",
   "id": "5f6b0cbe-1cf6-40f0-b62a-a4e6b40b6310",
   "metadata": {},
   "source": [
    "## check `indexToCellID`, attributes, dimensions, etc"
   ]
  },
  {
   "cell_type": "code",
   "execution_count": null,
   "id": "fbfd9318-f994-4710-8abc-3bfd7d75ec13",
   "metadata": {},
   "outputs": [],
   "source": [
    "print(ds0[\"indexToCellID\"][:])\n",
    "# print(ds0.ncattrs())\n",
    "print(ds0.dimensions.keys())\n",
    "print(ds0.dimensions[\"nVertLevels\"].size)\n",
    "print(ds0.dimensions[\"nCells\"].size)\n",
    "ds0.dimensions\n",
    "# ds0"
   ]
  },
  {
   "cell_type": "markdown",
   "id": "0aa30ca4-f7a5-4844-b3d8-2715ef27543d",
   "metadata": {},
   "source": [
    "## check `zgrid`, `ter`"
   ]
  },
  {
   "cell_type": "code",
   "execution_count": null,
   "id": "d0c975e9-cb59-4f16-8c33-b75502ba466e",
   "metadata": {},
   "outputs": [],
   "source": [
    "print(ds0[\"zgrid\"].shape)\n",
    "print(ds0[\"zgrid\"][2341817,:])\n",
    "print(ds0[\"zgrid\"][50,:])\n",
    "print(ds0[\"ter\"][2341817])\n",
    "print(ds0[\"ter\"][50])\n",
    "ds0[\"zgrid\"]"
   ]
  },
  {
   "cell_type": "markdown",
   "id": "713cff8c-2b7c-45fe-b751-56705bc79ec7",
   "metadata": {},
   "source": [
    "## compute a new zgrid by removing the terrain height"
   ]
  },
  {
   "cell_type": "code",
   "execution_count": null,
   "id": "e8b639d3-40f7-4ce7-9ddd-1e2d089c0ce6",
   "metadata": {},
   "outputs": [],
   "source": [
    "%%time\n",
    "agl=np.empty_like(ds0[\"zgrid\"][:])\n",
    "for i in range(60):\n",
    "    agl[:,i]=ds0[\"zgrid\"][:,i]-ds0[\"ter\"][:]"
   ]
  },
  {
   "cell_type": "code",
   "execution_count": null,
   "id": "ff805761-db75-4597-904c-0f8a56dc50ac",
   "metadata": {},
   "outputs": [],
   "source": [
    "np.set_printoptions(suppress=True)   # disables scientific notation\n",
    "np.set_printoptions(precision=3)     # optional: 2 decimal places\n",
    "print(agl[2341817,:])\n",
    "print(agl[50,:])    # the AGL zgrid values are different at different locations"
   ]
  },
  {
   "cell_type": "markdown",
   "id": "048c4992-77e4-4070-aefa-f32efa4ae488",
   "metadata": {},
   "source": [
    "## scatter all cell terrain values and when a mouse hovers on a cell, show its `lat`,`lon`,`ter` and `iCell` (cell index)\n",
    "Write down iCell and then we can print a field profile for that cell"
   ]
  },
  {
   "cell_type": "code",
   "execution_count": null,
   "id": "6d1e249d-ecbd-4fa5-a6d0-cd30a745a18c",
   "metadata": {},
   "outputs": [],
   "source": [
    "import plotly.express as px\n",
    "import xarray as xr\n",
    "\n",
    "# plot the whole map\n",
    "factor=50  # plotting all cells take too many memories, so plot every factor cells\n",
    "lon = np.degrees(ds0.variables['lonCell'][::factor])\n",
    "lat = np.degrees(ds0.variables['latCell'][::factor])\n",
    "iCell = ds0.variables['indexToCellID'][::factor]\n",
    "ter = ds0[\"ter\"][::factor]\n",
    "\n",
    "# plot a subdomain defined by latmin, latmax, lonmin, lonmax\n",
    "# latmin, latmax = 37, 41\n",
    "# lonmin0, lonmax0 = -109, -102\n",
    "# #\n",
    "# lon0 = np.degrees(ds0.variables['lonCell'][:])\n",
    "# lat0 = np.degrees(ds0.variables['latCell'][:])\n",
    "# lonmin = lonmin0 + 360\n",
    "# lonmax = lonmax0 + 360\n",
    "# mask = (lat0 >= latmin) & (lat0 <= latmax) & (lon0 >= lonmin) & (lon0 <= lonmax)\n",
    "# lat = lat0[mask]\n",
    "# lon = lon0[mask]\n",
    "# iCell = ds0.variables['indexToCellID'][:][mask]\n",
    "# ter = ds0.variables[\"ter\"][:][mask]\n",
    "\n",
    "# use projections, but LLC is not natively supported in plotly\n",
    "# fig = px.scatter_geo(\n",
    "#     lat=lat,\n",
    "#     lon=lon,\n",
    "#     color=ter,\n",
    "#     color_continuous_scale=\"Viridis\",  # choose any supported colorscale\n",
    "#     projection=\"mercator\",\n",
    "#     hover_name=None,                   # optional: show info on hover\n",
    "#     hover_data={\"lat\": lat, \"lon\": lon, \"ter\": ter},\n",
    "#     size_max=10,\n",
    "# )\n",
    "\n",
    "# use maps\n",
    "fig = px.scatter_map(\n",
    "    lat=lat,\n",
    "    lon=lon,\n",
    "    color=ter,\n",
    "    color_continuous_scale=\"Viridis\",  # choose any supported colorscale\n",
    "    hover_name=None,                   # optional: show info on hover\n",
    "    hover_data={\"lat\": lat, \"lon\": lon, \"ter\": ter, \"iCell\": iCell},\n",
    "    size_max=1,\n",
    ")\n",
    "\n",
    "# set width and height\n",
    "fig.update_layout(\n",
    "    width=1000,   # pixels\n",
    "    height=800,   # pixels\n",
    "    title=\"\"\n",
    ")\n",
    "\n",
    "# Show interactive map\n",
    "fig.show()"
   ]
  },
  {
   "cell_type": "markdown",
   "id": "400f9bfc-09d7-4b02-87c0-b00dbf398c13",
   "metadata": {},
   "source": [
    "## Print pressure profile in the Atlantic at iCell=1702401"
   ]
  },
  {
   "cell_type": "code",
   "execution_count": null,
   "id": "9eb04644-f569-4ac5-903d-b468cffdec80",
   "metadata": {},
   "outputs": [],
   "source": [
    "iCell = 1702401\n",
    "\n",
    "ds1 = Dataset(os.path.join(pyDAmonitor_ROOT,'data/mpasjedi/bkg.nc'), 'r')\n",
    "query_dataset(ds1)\n",
    "pfull = ds1['pressure_p'][:] + ds1['pressure_base'][:]\n",
    "print(pfull.shape)\n",
    "print(pfull[0,iCell,:])"
   ]
  },
  {
   "cell_type": "markdown",
   "id": "ad42f8d2-b2bf-49de-b97a-51bb8f0c9da0",
   "metadata": {},
   "source": [
    "# Find the top interface level pressure"
   ]
  },
  {
   "cell_type": "code",
   "execution_count": null,
   "id": "0b6017dc-9092-426d-9389-9f11b60b28d9",
   "metadata": {},
   "outputs": [],
   "source": [
    "from math import log, exp\n",
    "size = pfull[0,iCell,:].size\n",
    "logIm1 = ( log(pfull[0,iCell,size-1]) + log(pfull[0,iCell,size-2]) ) /2\n",
    "logM = log(pfull[0,iCell,size-1])\n",
    "logI = 2 * logM - logIm1\n",
    "exp(logI)"
   ]
  },
  {
   "cell_type": "markdown",
   "id": "47aa7934-e708-4c8c-9f88-ad380fe8b312",
   "metadata": {},
   "source": [
    "## Find and tlot neighborhood cells around a given lat, lon"
   ]
  },
  {
   "cell_type": "code",
   "execution_count": null,
   "id": "6b4baeef-9106-4e38-b973-c64350ec60a0",
   "metadata": {},
   "outputs": [],
   "source": [
    "import numpy as np\n",
    "import matplotlib.pyplot as plt\n",
    "import cartopy.crs as ccrs\n",
    "from netCDF4 import Dataset\n",
    "cartopy.config['data_dir'] = f\"{pyDAmonitor_ROOT}/data/natural_earth_data\"\n",
    "\n",
    "mylat, mylon0 = 40.14, -105.18   # specify a given lot, lon\n",
    "\n",
    "lat_incr = 0.01  # degreee, ~1km?\n",
    "lon_incr = 0.01  # degree, ~1km?\n",
    "\n",
    "mylon = mylon0 + 360  # convert to 360-based degree\n",
    "lonCell = np.degrees(ds.variables['lonCell'][:])\n",
    "latCell = np.degrees(ds.variables['latCell'][:])\n",
    "lonVertex = np.degrees(ds.variables['lonVertex'][:])\n",
    "latVertex = np.degrees(ds.variables['latVertex'][:])\n",
    "\n",
    "# Connectivity: vertices of each cell\n",
    "verticesOnCell = ds.variables['verticesOnCell'][:]  # shape (nCells, maxEdges)\n",
    "nEdgesOnCell = ds.variables['nEdgesOnCell'][:]\n",
    "\n",
    "# find neighborhood cells (>=7)\n",
    "for iter in range(10):\n",
    "    latmin = mylat - lat_incr * (iter + 1)\n",
    "    latmax = mylat + lat_incr * (iter + 1)\n",
    "    lonmin = mylon - lon_incr * (iter + 1)\n",
    "    lonmax = mylon + lon_incr * (iter + 1)\n",
    "    \n",
    "    maskC = (latCell >= latmin) & (latCell <= latmax) & (lonCell >= lonmin) & (lonCell <= lonmax)\n",
    "    latC = latCell[maskC]\n",
    "    lonC = lonCell[maskC]\n",
    "    vertC = verticesOnCell[maskC]\n",
    "    nEdgesC = nEdgesOnCell[maskC]\n",
    "    print(latC.size)\n",
    "    if latC.size >= 7: \n",
    "        break  # exit the loop if we find 7+ cells\n",
    "\n",
    "# find the cell indices \n",
    "iCell = ds0.variables['indexToCellID'][:][maskC]\n",
    "# ter = ds0.variables[\"ter\"][:][mask]\n",
    "\n",
    "# --- Plot ---\n",
    "fig = plt.figure(figsize=(10, 10))\n",
    "ax = plt.axes(projection=ccrs.PlateCarree())\n",
    "\n",
    "# add costlines, country borders, state/province borders\n",
    "ax.coastlines(resolution='50m')  # '110m', '50m', or '10m'\n",
    "ax.add_feature(cfeature.BORDERS, linewidth=0.7)\n",
    "ax.add_feature(cfeature.STATES, linewidth=0.5, edgecolor='gray')\n",
    "ax.add_feature(cfeature.LAND, facecolor=cfeature.COLORS['land'])\n",
    "ax.add_feature(cfeature.OCEAN, facecolor=cfeature.COLORS['water'])\n",
    "\n",
    "# relax the plotting extent by the \"buffer\" degree\n",
    "buffer = 0.02\n",
    "ax.set_extent([lonmin - buffer, lonmax + buffer, latmin - buffer, latmax + buffer])\n",
    "\n",
    "# plot ploygons\n",
    "for i in range(latC.size):\n",
    "    nEdges = nEdgesC[i]\n",
    "    verts = verC[i, :nEdges] - 1  # convert 1-based to 0-based index\n",
    "    poly_lon = lonVertex[verts]\n",
    "    poly_lat = latVertex[verts]\n",
    "    ax.fill(poly_lon, poly_lat, edgecolor=\"black\", facecolor=\"none\", linewidth=0.5, transform=ccrs.PlateCarree())\n",
    "    # add the cell index in the center of the cell\n",
    "    ax.text(lonC[i], latC[i], f'{iCell[i]}', \n",
    "        transform=ccrs.PlateCarree(),\n",
    "        fontsize=8, color=\"blue\",\n",
    "        ha=\"center\", va=\"center\")\n",
    "    \n",
    "# Plot a star at the user specificed (mylon, mylat)\n",
    "ax.plot(mylon, mylat, marker=\"*\", color=\"red\", markersize=5,  # o, ^, s\n",
    "        transform=ccrs.PlateCarree())\n",
    "\n",
    "plt.show()"
   ]
  }
 ],
 "metadata": {
  "kernelspec": {
   "display_name": "pyDAmonitor",
   "language": "python",
   "name": "pydamonitor"
  },
  "language_info": {
   "codemirror_mode": {
    "name": "ipython",
    "version": 3
   },
   "file_extension": ".py",
   "mimetype": "text/x-python",
   "name": "python",
   "nbconvert_exporter": "python",
   "pygments_lexer": "ipython3",
   "version": "3.11.13"
  }
 },
 "nbformat": 4,
 "nbformat_minor": 5
}
