{
 "cells": [
  {
   "cell_type": "markdown",
   "id": "1f056344-7f9b-4540-9957-061c7e1085df",
   "metadata": {},
   "source": [
    "# Plot the domain shape from `grid.nc` or domain terrain from `static.nc`\n",
    "Being able to plot the domain shape from `grid.nc` will accelerate adjusting domain design.\n",
    "This notebook is not limited to domain shape or domain terrain. Other horizontal fields can be plotted similarly.   \n",
    "Adapted from Sijie Pan's `MPAS_terrain_plot.ipnb` by Guoqing Ge"
   ]
  },
  {
   "cell_type": "markdown",
   "id": "5e993f84-6ba4-4418-83fc-50f450bd7c7f",
   "metadata": {},
   "source": [
    "## get the `pyDAmonitor_ROOT` env variable\n",
    "This step is highly recommended. It is required if one want to use the DAmonitor Python package or use the MPAS/FV3 sample data or local cartopy nature_earth_data."
   ]
  },
  {
   "cell_type": "code",
   "execution_count": null,
   "id": "49871422-30c1-499f-9f9b-e47e0749e5ee",
   "metadata": {},
   "outputs": [],
   "source": [
    "%%time\n",
    "# autoload external python modules if they changed\n",
    "%load_ext autoreload\n",
    "%autoreload 2\n",
    "    \n",
    "import sys, os\n",
    "pyDAmonitor_ROOT=os.getenv(\"pyDAmonitor_ROOT\")\n",
    "if pyDAmonitor_ROOT is None:\n",
    "    print(\"!!! pyDAmonitor_ROOT is NOT set. Run `source ush/load_pyDAmonitor.sh`\")\n",
    "else:\n",
    "    print(f\"pyDAmonitor_ROOT={pyDAmonitor_ROOT}\\n\")\n",
    "sys.path.insert(0, pyDAmonitor_ROOT)"
   ]
  },
  {
   "cell_type": "markdown",
   "id": "9e9b7e05-674c-466b-a506-219a47ffbc16",
   "metadata": {},
   "source": [
    "## import modules"
   ]
  },
  {
   "cell_type": "code",
   "execution_count": null,
   "id": "a3753ae3-cd9c-40cb-90c2-426286e7bbbd",
   "metadata": {},
   "outputs": [],
   "source": [
    "%%time\n",
    "import numpy as np\n",
    "from netCDF4 import Dataset\n",
    "\n",
    "import matplotlib.pyplot as plt\n",
    "import matplotlib as mpl\n",
    "import cartopy\n",
    "import cartopy.crs as ccrs\n",
    "import cartopy.feature as cfeature"
   ]
  },
  {
   "cell_type": "markdown",
   "id": "099613ee-5862-4ab3-99ff-1ad75a4239f2",
   "metadata": {},
   "source": [
    "## wrap the LLC (Lambert Conformal Conic) plotting in a function, so that we can make mutiple plots for different grids, different fields"
   ]
  },
  {
   "cell_type": "code",
   "execution_count": null,
   "id": "558312a2-a8e4-4a58-b721-9d9c360823df",
   "metadata": {},
   "outputs": [],
   "source": [
    "def mpas_llc_scatter(lons, lats, field, area, cmap, ref_lat, ref_lon, trulat1, trulat2):\n",
    "    cartopy.config['data_dir'] = f\"{pyDAmonitor_ROOT}/data/natural_earth_data\"\n",
    "    # create a canvas of size 20inches x 16 inches, default dpi=100\n",
    "    fig = plt.figure(figsize=(20, 16))\n",
    "\n",
    "    # use a LambertConformal projection \n",
    "    projection = ccrs.LambertConformal(central_longitude=ref_lon, central_latitude=ref_lat, standard_parallels=(trulat1, trulat2))\n",
    "    ax = plt.axes(projection=projection)\n",
    "    ax.set_extent(area, crs=ccrs.PlateCarree())  # [lon1, lon2, lat1, lat2] only works for ccrs.PlateCarree\n",
    "    \n",
    "    # Draw lat/lon gridlines every x° longitude, every y° latitude\n",
    "    gl = ax.gridlines(draw_labels=True, linewidth=0.5, color='yellow', alpha=0.5)\n",
    "    gl.xlocator = plt.MultipleLocator(5)   # every x° longitude\n",
    "    gl.ylocator = plt.MultipleLocator(5)    # every y° latitude\n",
    "    \n",
    "    # draw exact lat/lon gridlines if needed\n",
    "    # from matplotlib.ticker import FixedLocator\n",
    "    # gl.xlocator = FixedLocator([-130, -120, -110, -100, -90])\n",
    "    # gl.ylocator = FixedLocator([20, 30, 40, 50])\n",
    "    \n",
    "    # add costlines, country borders, state/province borders\n",
    "    ax.coastlines(resolution='50m')  # '110m', '50m', or '10m'\n",
    "    ax.add_feature(cfeature.BORDERS, linewidth=0.7)\n",
    "    ax.add_feature(cfeature.STATES, linewidth=0.5, edgecolor='gray')\n",
    "    \n",
    "    # Add land and ocean\n",
    "    ax.add_feature(cfeature.LAND, facecolor=cfeature.COLORS['land'])\n",
    "    ax.add_feature(cfeature.OCEAN, facecolor=cfeature.COLORS['water'])\n",
    "    \n",
    "    # use scatter to plot the field\n",
    "    markersize=2\n",
    "    alpha=0.9\n",
    "    sc = ax.scatter(lons, lats, c=field, cmap=cmap, transform=ccrs.PlateCarree(), s=markersize, alpha=alpha)\n",
    "    \n",
    "    # Add colorbar and title\n",
    "    cbar = plt.colorbar(sc, label='', orientation='horizontal', shrink=0.8, aspect=50, pad=0.01)\n",
    "    # plt.title('', fontsize=18)\n",
    "\n",
    "    plt.show()\n",
    "    return fig, ax # so that we may make futher changes outside of the function"
   ]
  },
  {
   "cell_type": "markdown",
   "id": "fc0a1229-d7dc-4bde-b129-0dfc53558198",
   "metadata": {},
   "source": [
    "## Plot the conus3km terrrain"
   ]
  },
  {
   "cell_type": "code",
   "execution_count": null,
   "id": "df15f1be-e829-40ee-9915-ebe71c007e94",
   "metadata": {},
   "outputs": [],
   "source": [
    "%%time\n",
    "area = [-130, -65, 20, 55];  # expanded conus\n",
    "# use a LambertConformal projection, choose trulat1 and trulat2 around the center of your domain to reduce distortion.\n",
    "ref_lon=-97.5  # reference or central lon\n",
    "ref_lat=36.0   # reference or centeal lat\n",
    "trulat1=36.0   # first standard parallel, no distortion\n",
    "trulat2=36.0   # second standar parallel, no distortion\n",
    "\n",
    "# for grid.nc, create a new field with all zeros so that we can plot the domain shape\n",
    "# for stati.nc, get the ter field or use a zero filed as for grid.nc\n",
    "dataset = Dataset(os.path.join(pyDAmonitor_ROOT,'data/mpasjedi/invariant.nc'), 'r')\n",
    "\n",
    "lons = np.degrees(dataset.variables['lonCell'][:])\n",
    "lats = np.degrees(dataset.variables['latCell'][:])\n",
    "\n",
    "# field = np.ma.zeros_like(lons)\n",
    "# cmap=\"summer\"  # more colormpas at https://matplotlib.org/stable/users/explain/colors/colormaps.html#colormaps\n",
    "field = dataset.variables['ter'][:]\n",
    "cmap=\"terrain\"\n",
    "    \n",
    "fig, ax = mpas_llc_scatter(lons, lats, field, area, cmap, ref_lat, ref_lon, trulat1, trulat2)\n",
    "plt.show()"
   ]
  },
  {
   "cell_type": "markdown",
   "id": "9fa71b86-a52c-4c2e-bfd2-855e564c4612",
   "metadata": {},
   "source": [
    "## plot the ar3.5km domain shape"
   ]
  },
  {
   "cell_type": "code",
   "execution_count": null,
   "id": "ddd593e8-47ca-4a7c-a50c-1610c39e7149",
   "metadata": {},
   "outputs": [],
   "source": [
    "area = [-160, -100, 20, 55];  # for ar3.5km\n",
    "# area = [-170, -95, 10, 65];  # for ar3.5kmBig\n",
    "\n",
    "ref_lon=-130  # reference or central lon\n",
    "ref_lat=40.0   # reference or centeal lat\n",
    "trulat1=35.0   # first standard parallel, no distortion\n",
    "trulat2=45.0   # second standar parallel, no distortion\n",
    "\n",
    "dataset = Dataset(os.path.join(pyDAmonitor_ROOT, 'data/mpasjedi/ar3.5km.static.nc'), 'r')\n",
    "lons = np.degrees(dataset.variables['lonCell'][:])\n",
    "lats = np.degrees(dataset.variables['latCell'][:])\n",
    "\n",
    "# field = dataset.variables['ter'][:]\n",
    "# cmap=\"terrain\"\n",
    "field = np.ma.zeros_like(lons)\n",
    "cmap = \"summer\"\n",
    "\n",
    "fig, ax = mpas_llc_scatter(lons, lats, field, area, cmap, ref_lat, ref_lon, trulat1, trulat2)"
   ]
  },
  {
   "cell_type": "markdown",
   "id": "fb496cf5-38bf-47ed-8037-4bfe52ad8d9b",
   "metadata": {},
   "source": [
    "## Plot the ar3.5km domain terrain"
   ]
  },
  {
   "cell_type": "code",
   "execution_count": null,
   "id": "46d2ff22-bde8-40a6-93c3-632106de48b4",
   "metadata": {},
   "outputs": [],
   "source": [
    "area = [-160, -100, 20, 55];  # for ar3.5km\n",
    "# area = [-170, -95, 10, 65];  # for ar3.5kmBig\n",
    "\n",
    "ref_lon=-130  # reference or central lon\n",
    "ref_lat=40.0   # reference or centeal lat\n",
    "trulat1=35.0   # first standard parallel, no distortion\n",
    "trulat2=45.0   # second standar parallel, no distortion\n",
    "\n",
    "dataset = Dataset(os.path.join(pyDAmonitor_ROOT, 'data/mpasjedi/ar3.5km.static.nc'), 'r')\n",
    "lons = np.degrees(dataset.variables['lonCell'][:])\n",
    "lats = np.degrees(dataset.variables['latCell'][:])\n",
    "\n",
    "field = dataset.variables['ter'][:]\n",
    "cmap=\"terrain\"\n",
    "# field = np.ma.zeros_like(lons)\n",
    "# cmap = \"summer\"\n",
    "\n",
    "fig, ax = mpas_llc_scatter(lons, lats, field, area, cmap, ref_lat, ref_lon, trulat1, trulat2)"
   ]
  },
  {
   "cell_type": "markdown",
   "id": "3d8e97ef-2280-4b33-a4bf-53f39278f234",
   "metadata": {},
   "source": [
    "## Plot the ar3.5km domain terrain plus the conus3km domain terrain"
   ]
  },
  {
   "cell_type": "code",
   "execution_count": null,
   "id": "a1af366a-fe23-4f95-a867-e760cd65d163",
   "metadata": {},
   "outputs": [],
   "source": [
    "%%time\n",
    "area = [-160, -65, 20, 55];  # conus3km + ar3.5km\n",
    "# use a LambertConformal projection, choose trulat1 and trulat2 around the center of your domain to reduce distortion.\n",
    "ref_lon=-105   # reference or central lon\n",
    "ref_lat=36.0   # reference or centeal lat\n",
    "trulat1=36.0   # first standard parallel, no distortion\n",
    "trulat2=36.0   # second standar parallel, no distortion\n",
    "\n",
    "# for grid.nc, create a new field with all zeros so that we can plot the domain shape\n",
    "# for stati.nc, get the ter field or use a zero filed as for grid.nc\n",
    "# conus3km\n",
    "dataset = Dataset(os.path.join(pyDAmonitor_ROOT,'data/mpasjedi/invariant.nc'), 'r')\n",
    "lons = np.degrees(dataset.variables['lonCell'][:])\n",
    "lats = np.degrees(dataset.variables['latCell'][:])\n",
    "field = dataset.variables['ter'][:]\n",
    "cmap=\"terrain\"\n",
    "# field = np.ma.ones_like(lons)\n",
    "# cmap = \"summer\"\n",
    "\n",
    "# ar3.5km\n",
    "dataset2 = Dataset(os.path.join(pyDAmonitor_ROOT,'data/mpasjedi/ar3.5km.static.nc'), 'r')\n",
    "lons2 = np.degrees(dataset2.variables['lonCell'][:])\n",
    "lats2 = np.degrees(dataset2.variables['latCell'][:])\n",
    "field2 = dataset2.variables['ter'][:]\n",
    "# field2 = np.ma.ones_like(lons2)\n",
    "\n",
    "cartopy.config['data_dir'] = f\"{pyDAmonitor_ROOT}/data/natural_earth_data\"\n",
    "# create a canvas of size 20inches x 16 inches, default dpi=100\n",
    "fig = plt.figure(figsize=(20, 16))\n",
    "\n",
    "# use a LambertConformal projection \n",
    "projection = ccrs.LambertConformal(central_longitude=ref_lon, central_latitude=ref_lat, standard_parallels=(trulat1, trulat2))\n",
    "ax = plt.axes(projection=projection)\n",
    "ax.set_extent(area, crs=ccrs.PlateCarree())  # [lon1, lon2, lat1, lat2] only works for ccrs.PlateCarree\n",
    "\n",
    "# Draw lat/lon gridlines every x° longitude, every y° latitude\n",
    "gl = ax.gridlines(draw_labels=True, linewidth=0.5, color='yellow', alpha=0.5)\n",
    "gl.xlocator = plt.MultipleLocator(5)   # every x° longitude\n",
    "gl.ylocator = plt.MultipleLocator(5)    # every y° latitude\n",
    "\n",
    "# draw exact lat/lon gridlines if needed\n",
    "# from matplotlib.ticker import FixedLocator\n",
    "# gl.xlocator = FixedLocator([-130, -120, -110, -100, -90])\n",
    "# gl.ylocator = FixedLocator([20, 30, 40, 50])\n",
    "\n",
    "# add costlines, country borders, state/province borders\n",
    "ax.coastlines(resolution='50m')  # '110m', '50m', or '10m'\n",
    "ax.add_feature(cfeature.BORDERS, linewidth=0.7)\n",
    "ax.add_feature(cfeature.STATES, linewidth=0.5, edgecolor='gray')\n",
    "\n",
    "# Add land and ocean\n",
    "ax.add_feature(cfeature.LAND, facecolor=cfeature.COLORS['land'])\n",
    "ax.add_feature(cfeature.OCEAN, facecolor=cfeature.COLORS['water'])\n",
    "\n",
    "# use scatter to plot the field\n",
    "markersize=2\n",
    "alpha=0.9\n",
    "sc = ax.scatter(lons, lats, c=field, cmap=cmap, transform=ccrs.PlateCarree(), s=markersize, alpha=alpha)\n",
    "sc2 = ax.scatter(lons2, lats2, c=field2, cmap=cmap, transform=ccrs.PlateCarree(), s=1, alpha=0.2)\n",
    "# sc2 = ax.scatter(lons2, lats2, facecolor=\"blue\", edgecolor=\"none\", transform=ccrs.PlateCarree(), s=1, alpha=0.2) # tansparent sc2\n",
    "\n",
    "# Add colorbar and title\n",
    "cbar = plt.colorbar(sc, label='', orientation='horizontal', shrink=0.8, aspect=50, pad=0.01)\n",
    "# plt.title('', fontsize=18)\n",
    "\n",
    "plt.show()"
   ]
  },
  {
   "cell_type": "markdown",
   "id": "35e4b675-f33d-49a1-96b1-78dc4e52a0a2",
   "metadata": {},
   "source": [
    "## Plot the south3.5km terrrain"
   ]
  },
  {
   "cell_type": "code",
   "execution_count": null,
   "id": "82cf626f-f696-4238-a0e0-261d67ee17e8",
   "metadata": {},
   "outputs": [],
   "source": [
    "area = [-105, -77, 25, 42];  # for south3.5km\n",
    "ref_lon=-91.5  # reference or central lon\n",
    "ref_lat=34.0   # reference or centeal lat\n",
    "trulat1=34.0   # first standard parallel, no distortion\n",
    "trulat2=34.0   # second standar parallel, no distortion\n",
    "\n",
    "dataset = Dataset(os.path.join(pyDAmonitor_ROOT,'data/mpasjedi/south3.5km.static.nc'), 'r')\n",
    "lons = np.degrees(dataset.variables['lonCell'][:])\n",
    "lats = np.degrees(dataset.variables['latCell'][:])\n",
    "\n",
    "field = dataset.variables['ter'][:]\n",
    "cmap=\"terrain\"\n",
    "\n",
    "fig, ax = mpas_llc_scatter(lons, lats, field, area, cmap, ref_lat, ref_lon, trulat1, trulat2)"
   ]
  },
  {
   "cell_type": "markdown",
   "id": "0c5013f7-610b-4d8f-84da-fd5ffe42af15",
   "metadata": {},
   "source": [
    "## Plot the west3km terrain"
   ]
  },
  {
   "cell_type": "code",
   "execution_count": null,
   "id": "8a8c5193-5c83-46ff-908d-8aae7dab5110",
   "metadata": {},
   "outputs": [],
   "source": [
    "area = [-128, -100, 29, 48];  # for west3km\n",
    "ref_lon=-113  # reference or central lon\n",
    "ref_lat=39.0   # reference or centeal lat\n",
    "trulat1=36.0   # first standard parallel, no distortion\n",
    "trulat2=42.0   # second standar parallel, no distortion\n",
    "\n",
    "dataset = Dataset(os.path.join(pyDAmonitor_ROOT,'data/mpasjedi/west3km.v3.static.nc'), 'r')\n",
    "lons = np.degrees(dataset.variables['lonCell'][:])\n",
    "lats = np.degrees(dataset.variables['latCell'][:])\n",
    "\n",
    "field = dataset.variables['ter'][:]\n",
    "cmap=\"terrain\"\n",
    "# field = np.ma.zeros_like(lons)\n",
    "# cmap = \"summer\"\n",
    "\n",
    "fig, ax = mpas_llc_scatter(lons, lats, field, area, cmap, ref_lat, ref_lon, trulat1, trulat2)"
   ]
  },
  {
   "cell_type": "markdown",
   "id": "eb25dd3c-b018-488c-8d4f-8ce51b59d494",
   "metadata": {},
   "source": [
    "## Save Sijie's original variable_scatter function(..) for reference"
   ]
  },
  {
   "cell_type": "code",
   "execution_count": null,
   "id": "adcdc8b7-4b63-4bd2-b2ce-28ed65eb51ba",
   "metadata": {},
   "outputs": [],
   "source": [
    "def variable_scatter(lons, lats, values, plotvar, colormap=\"terrain\", colornorm=None, markersize=1.0, \n",
    "                     alpha=1.0, regional=True, area=[-140, -50, 20, 60], clon=-95, clat=40):\n",
    "    fig = plt.figure(figsize=(20, 16))\n",
    "\n",
    "    cartopy.config['data_dir'] = f\"{pyDAmonitor_ROOT}/data/natural_earth_data\"\n",
    "    if regional:\n",
    "        projection = ccrs.LambertConformal(central_longitude=clon, central_latitude=clat,\n",
    "                                           standard_parallels=(clat, clat))\n",
    "        ax = plt.axes(projection=projection)\n",
    "        ax.set_extent(area, crs=ccrs.PlateCarree())\n",
    "    else:\n",
    "        projection = ccrs.PlateCarree(central_longitude=180.0)\n",
    "        ax = plt.axes(projection=projection)\n",
    "\n",
    "    # Add gridlines\n",
    "    gl = ax.gridlines(draw_labels=True, linewidth=0.5, color='gray', alpha=0.5)\n",
    "    \n",
    "    # Set where the lines should be\n",
    "    gl.xlocator = plt.MultipleLocator(5)   # every x° longitude\n",
    "    gl.ylocator = plt.MultipleLocator(5)    # every y° latitude\n",
    "    \n",
    "    land = cfeature.NaturalEarthFeature('physical', 'land', '50m',\n",
    "                                        edgecolor='face',\n",
    "                                        facecolor=cfeature.COLORS['land'])\n",
    "    ax.add_feature(land, zorder=0)\n",
    "    \n",
    "    ocean = cfeature.NaturalEarthFeature('physical', 'ocean', '50m',\n",
    "                                        edgecolor='face',\n",
    "                                        facecolor=cfeature.COLORS['water'])\n",
    "    ax.add_feature(ocean, zorder=0)\n",
    "    \n",
    "    # Add coastlines\n",
    "    coast = cfeature.NaturalEarthFeature(category='physical', scale='50m', name='coastline')\n",
    "    ax.add_feature(coast, edgecolor='black', facecolor='none', linewidth=0.5)\n",
    "    \n",
    "    # Add country borders\n",
    "    countries = cfeature.NaturalEarthFeature(category='cultural', scale='50m', name='admin_0_countries')\n",
    "    ax.add_feature(countries, edgecolor='black', facecolor='none', linewidth=0.7)\n",
    "    \n",
    "    # Add state lines\n",
    "    states = cfeature.NaturalEarthFeature(category='cultural', scale='50m', name='admin_1_states_provinces')\n",
    "    ax.add_feature(states, edgecolor='gray', facecolor='none', linewidth=0.5)\n",
    "\n",
    "    sc = ax.scatter(lons, lats, c=values, cmap=colormap, norm=colornorm, transform=ccrs.PlateCarree(), s=markersize, alpha=alpha)\n",
    "    # Calculate the statistics\n",
    "    max_value = np.nanmax(values)\n",
    "    min_value = np.nanmin(values)\n",
    "    mean_value = np.nanmean(values)\n",
    "    std_value = np.nanstd(values)\n",
    "    \n",
    "    ## Add the statistics as text annotations on the plot\n",
    "    #ax.text(0.025, 0.20, f'Max: {max_value:.4f}', transform=ax.transAxes, fontsize=12, verticalalignment='top', horizontalalignment='left', color='black')\n",
    "    #ax.text(0.025, 0.15, f'Min: {min_value:.4f}', transform=ax.transAxes, fontsize=12, verticalalignment='top', horizontalalignment='left', color='black')\n",
    "    #ax.text(0.025, 0.10, f'Mean: {mean_value:.4f}', transform=ax.transAxes, fontsize=12, verticalalignment='top', horizontalalignment='left', color='black')\n",
    "    #ax.text(0.025, 0.05, f'Std: {std_value:.4f}', transform=ax.transAxes, fontsize=12, verticalalignment='top', horizontalalignment='left', color='black')\n",
    "    \n",
    "    # Add a colorbar at the bottom\n",
    "    cbar = plt.colorbar(sc, label='', orientation='horizontal', shrink=0.8, aspect=50, pad=0.01)\n",
    "    plt.title('', fontsize=18)"
   ]
  },
  {
   "cell_type": "code",
   "execution_count": null,
   "id": "d811628b-7f56-4c8f-a5f1-ffa7c2bb0e25",
   "metadata": {},
   "outputs": [],
   "source": [
    "%%time\n",
    "dataset = Dataset(os.path.join(pyDAmonitor_ROOT,'data/mpasjedi/west3km.v3.static.nc'), 'r')\n",
    "lons = np.degrees(dataset.variables['lonCell'][:])\n",
    "lats = np.degrees(dataset.variables['latCell'][:])\n",
    "\n",
    "maxlat = 29\n",
    "minlat = 48\n",
    "maxlon = -100\n",
    "minlon = -128\n",
    "\n",
    "terrain = dataset.variables['ter'][:]\n",
    "cmap=\"terrain\"\n",
    "# cmap=\"summer\"\n",
    "# terrain = np.ma.zeros_like(lons)\n",
    "\n",
    "variable_scatter(lons, lats, terrain, plotvar=\"figure\", colormap=cmap, markersize=2, alpha=0.9, regional=True, area=[minlon, maxlon, minlat, maxlat], clon=-113, clat=39)"
   ]
  }
 ],
 "metadata": {
  "kernelspec": {
   "display_name": "pyDAmonitor",
   "language": "python",
   "name": "pydamonitor"
  },
  "language_info": {
   "codemirror_mode": {
    "name": "ipython",
    "version": 3
   },
   "file_extension": ".py",
   "mimetype": "text/x-python",
   "name": "python",
   "nbconvert_exporter": "python",
   "pygments_lexer": "ipython3",
   "version": "3.11.13"
  }
 },
 "nbformat": 4,
 "nbformat_minor": 5
}
